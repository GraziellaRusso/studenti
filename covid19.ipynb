{
  "nbformat": 4,
  "nbformat_minor": 0,
  "metadata": {
    "colab": {
      "name": "covid19.ipynb",
      "provenance": [],
      "authorship_tag": "ABX9TyOBo6qfSgWPUur4d+a6VOfe",
      "include_colab_link": true
    },
    "kernelspec": {
      "name": "python3",
      "display_name": "Python 3"
    }
  },
  "cells": [
    {
      "cell_type": "markdown",
      "metadata": {
        "id": "view-in-github",
        "colab_type": "text"
      },
      "source": [
        "<a href=\"https://colab.research.google.com/github/gmazzitelli/studenti/blob/master/covid19.ipynb\" target=\"_parent\"><img src=\"https://colab.research.google.com/assets/colab-badge.svg\" alt=\"Open In Colab\"/></a>"
      ]
    },
    {
      "cell_type": "code",
      "metadata": {
        "id": "LU4F8CVomAhJ",
        "colab_type": "code",
        "colab": {}
      },
      "source": [
        "import pandas as pd\n",
        "import numpy as np\n",
        "import matplotlib.pyplot as plt\n",
        "import matplotlib.dates as mdates\n",
        "# download updated data\n",
        "# repository italy https://github.com/pcm-dpc/COVID-19/tree/master/dati-andamento-nazionale\n",
        "url_csv_file = \"https://raw.githubusercontent.com/pcm-dpc/COVID-19/master/dati-andamento-nazionale/dpc-covid19-ita-andamento-nazionale.csv\"\n",
        "df = pd.read_csv(url_csv_file)"
      ],
      "execution_count": 0,
      "outputs": []
    },
    {
      "cell_type": "code",
      "metadata": {
        "id": "_LmUgk4mmEg1",
        "colab_type": "code",
        "colab": {
          "base_uri": "https://localhost:8080/",
          "height": 394
        },
        "outputId": "8a2ca038-3f90-475e-dd22-1b1276b81bf6"
      },
      "source": [
        "df.head() # show firt line"
      ],
      "execution_count": 15,
      "outputs": [
        {
          "output_type": "execute_result",
          "data": {
            "text/html": [
              "<div>\n",
              "<style scoped>\n",
              "    .dataframe tbody tr th:only-of-type {\n",
              "        vertical-align: middle;\n",
              "    }\n",
              "\n",
              "    .dataframe tbody tr th {\n",
              "        vertical-align: top;\n",
              "    }\n",
              "\n",
              "    .dataframe thead th {\n",
              "        text-align: right;\n",
              "    }\n",
              "</style>\n",
              "<table border=\"1\" class=\"dataframe\">\n",
              "  <thead>\n",
              "    <tr style=\"text-align: right;\">\n",
              "      <th></th>\n",
              "      <th>data</th>\n",
              "      <th>stato</th>\n",
              "      <th>ricoverati_con_sintomi</th>\n",
              "      <th>terapia_intensiva</th>\n",
              "      <th>totale_ospedalizzati</th>\n",
              "      <th>isolamento_domiciliare</th>\n",
              "      <th>totale_attualmente_positivi</th>\n",
              "      <th>nuovi_attualmente_positivi</th>\n",
              "      <th>dimessi_guariti</th>\n",
              "      <th>deceduti</th>\n",
              "      <th>totale_casi</th>\n",
              "      <th>tamponi</th>\n",
              "    </tr>\n",
              "  </thead>\n",
              "  <tbody>\n",
              "    <tr>\n",
              "      <th>0</th>\n",
              "      <td>2020-02-24 18:00:00</td>\n",
              "      <td>ITA</td>\n",
              "      <td>101</td>\n",
              "      <td>26</td>\n",
              "      <td>127</td>\n",
              "      <td>94</td>\n",
              "      <td>221</td>\n",
              "      <td>221</td>\n",
              "      <td>1</td>\n",
              "      <td>7</td>\n",
              "      <td>229</td>\n",
              "      <td>4324</td>\n",
              "    </tr>\n",
              "    <tr>\n",
              "      <th>1</th>\n",
              "      <td>2020-02-25 18:00:00</td>\n",
              "      <td>ITA</td>\n",
              "      <td>114</td>\n",
              "      <td>35</td>\n",
              "      <td>150</td>\n",
              "      <td>162</td>\n",
              "      <td>311</td>\n",
              "      <td>90</td>\n",
              "      <td>1</td>\n",
              "      <td>10</td>\n",
              "      <td>322</td>\n",
              "      <td>8623</td>\n",
              "    </tr>\n",
              "    <tr>\n",
              "      <th>2</th>\n",
              "      <td>2020-02-26 18:00:00</td>\n",
              "      <td>ITA</td>\n",
              "      <td>128</td>\n",
              "      <td>36</td>\n",
              "      <td>164</td>\n",
              "      <td>221</td>\n",
              "      <td>385</td>\n",
              "      <td>74</td>\n",
              "      <td>3</td>\n",
              "      <td>12</td>\n",
              "      <td>400</td>\n",
              "      <td>9587</td>\n",
              "    </tr>\n",
              "    <tr>\n",
              "      <th>3</th>\n",
              "      <td>2020-02-27 18:00:00</td>\n",
              "      <td>ITA</td>\n",
              "      <td>248</td>\n",
              "      <td>56</td>\n",
              "      <td>304</td>\n",
              "      <td>284</td>\n",
              "      <td>588</td>\n",
              "      <td>203</td>\n",
              "      <td>45</td>\n",
              "      <td>17</td>\n",
              "      <td>650</td>\n",
              "      <td>12014</td>\n",
              "    </tr>\n",
              "    <tr>\n",
              "      <th>4</th>\n",
              "      <td>2020-02-28 18:00:00</td>\n",
              "      <td>ITA</td>\n",
              "      <td>345</td>\n",
              "      <td>64</td>\n",
              "      <td>409</td>\n",
              "      <td>412</td>\n",
              "      <td>821</td>\n",
              "      <td>233</td>\n",
              "      <td>46</td>\n",
              "      <td>21</td>\n",
              "      <td>888</td>\n",
              "      <td>15695</td>\n",
              "    </tr>\n",
              "  </tbody>\n",
              "</table>\n",
              "</div>"
            ],
            "text/plain": [
              "                  data stato  ...  totale_casi  tamponi\n",
              "0  2020-02-24 18:00:00   ITA  ...          229     4324\n",
              "1  2020-02-25 18:00:00   ITA  ...          322     8623\n",
              "2  2020-02-26 18:00:00   ITA  ...          400     9587\n",
              "3  2020-02-27 18:00:00   ITA  ...          650    12014\n",
              "4  2020-02-28 18:00:00   ITA  ...          888    15695\n",
              "\n",
              "[5 rows x 12 columns]"
            ]
          },
          "metadata": {
            "tags": []
          },
          "execution_count": 15
        }
      ]
    },
    {
      "cell_type": "code",
      "metadata": {
        "id": "C78t4Z6_mQi_",
        "colab_type": "code",
        "colab": {
          "base_uri": "https://localhost:8080/",
          "height": 437
        },
        "outputId": "bf345dc6-67e2-413d-a791-4255931a3656"
      },
      "source": [
        "# makes plots\n",
        "plt.style.use('fast')\n",
        "plt.rc('font', size = 14, family ='Sans-Serif')\n",
        "fig, ax = plt.subplots(figsize=(10,6))\n",
        "fig.autofmt_xdate()\n",
        "ax.plot(df['data'], df['totale_casi'], label='totale')\n",
        "ax.fmt_xdata = mdates.DateFormatter('%Y-%m-%d')\n",
        "ax.set_title('daily groth')\n",
        "ax.set_yscale('log')\n",
        "ax.legend(loc=2)\n",
        "plt.minorticks_on()\n",
        "plt.show()"
      ],
      "execution_count": 41,
      "outputs": [
        {
          "output_type": "display_data",
          "data": {
            "image/png": "[encoded data removed]",
            "text/plain": [
              "<Figure size 720x432 with 1 Axes>"
            ]
          },
          "metadata": {
            "tags": []
          }
        }
      ]
    }
  ]
}