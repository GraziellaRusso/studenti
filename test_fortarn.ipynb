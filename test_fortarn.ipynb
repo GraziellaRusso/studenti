{
  "nbformat": 4,
  "nbformat_minor": 0,
  "metadata": {
    "colab": {
      "name": "test_fortarn.ipynb",
      "version": "0.3.2",
      "provenance": [],
      "include_colab_link": true
    },
    "kernelspec": {
      "name": "python3",
      "display_name": "Python 3"
    }
  },
  "cells": [
    {
      "cell_type": "markdown",
      "metadata": {
        "id": "view-in-github",
        "colab_type": "text"
      },
      "source": [
        "<a href=\"https://colab.research.google.com/github/gmazzitelli/studenti/blob/master/test_fortarn.ipynb\" target=\"_parent\"><img src=\"https://colab.research.google.com/assets/colab-badge.svg\" alt=\"Open In Colab\"/></a>"
      ]
    },
    {
      "cell_type": "code",
      "metadata": {
        "id": "wlJeXIdjTk8X",
        "colab_type": "code",
        "colab": {
          "base_uri": "https://localhost:8080/",
          "height": 578
        },
        "outputId": "524ff31f-de15-4682-938e-a8cf1968824c"
      },
      "source": [
        "# https://github.com/ZedThree/jupyter-fortran-kernel\n",
        "! rm -rf master*\n",
        "! rm -rf jupyter-fortran-kernel-master\n",
        "! wget https://github.com/ZedThree/jupyter-fortran-kernel/archive/master.zip\n",
        "! unzip master.zip\n",
        "! jupyter-kernelspec install jupyter-fortran-kernel-master/fortran_spec/\n"
      ],
      "execution_count": 1,
      "outputs": [
        {
          "output_type": "stream",
          "text": [
            "--2019-09-16 11:48:04--  https://github.com/ZedThree/jupyter-fortran-kernel/archive/master.zip\n",
            "Resolving github.com (github.com)... 140.82.118.4\n",
            "Connecting to github.com (github.com)|140.82.118.4|:443... connected.\n",
            "HTTP request sent, awaiting response... 302 Found\n",
            "Location: https://codeload.github.com/ZedThree/jupyter-fortran-kernel/zip/master [following]\n",
            "--2019-09-16 11:48:05--  https://codeload.github.com/ZedThree/jupyter-fortran-kernel/zip/master\n",
            "Resolving codeload.github.com (codeload.github.com)... 140.82.114.10\n",
            "Connecting to codeload.github.com (codeload.github.com)|140.82.114.10|:443... connected.\n",
            "HTTP request sent, awaiting response... 200 OK\n",
            "Length: unspecified [application/zip]\n",
            "Saving to: ‘master.zip’\n",
            "\n",
            "\rmaster.zip              [<=>                 ]       0  --.-KB/s               \rmaster.zip              [ <=>                ]   6.94K  --.-KB/s    in 0.08s   \n",
            "\n",
            "2019-09-16 11:48:05 (82.6 KB/s) - ‘master.zip’ saved [7107]\n",
            "\n",
            "Archive:  master.zip\n",
            "557603b7be9c30d4f14372bdee7a11be2d1b96cc\n",
            "   creating: jupyter-fortran-kernel-master/\n",
            "  inflating: jupyter-fortran-kernel-master/.gitignore  \n",
            "  inflating: jupyter-fortran-kernel-master/LICENSE.txt  \n",
            " extracting: jupyter-fortran-kernel-master/MANIFEST.in  \n",
            "  inflating: jupyter-fortran-kernel-master/README.md  \n",
            "  inflating: jupyter-fortran-kernel-master/example-notebook.ipynb  \n",
            "   creating: jupyter-fortran-kernel-master/fortran_spec/\n",
            "  inflating: jupyter-fortran-kernel-master/fortran_spec/kernel.json  \n",
            "   creating: jupyter-fortran-kernel-master/jupyter_fortran_kernel/\n",
            " extracting: jupyter-fortran-kernel-master/jupyter_fortran_kernel/__init__.py  \n",
            "  inflating: jupyter-fortran-kernel-master/jupyter_fortran_kernel/__main__.py  \n",
            "  inflating: jupyter-fortran-kernel-master/jupyter_fortran_kernel/kernel.py  \n",
            " extracting: jupyter-fortran-kernel-master/setup.cfg  \n",
            "  inflating: jupyter-fortran-kernel-master/setup.py  \n",
            "[InstallKernelSpec] Installed kernelspec fortran_spec in /usr/local/share/jupyter/kernels/fortran_spec\n"
          ],
          "name": "stdout"
        }
      ]
    },
    {
      "cell_type": "code",
      "metadata": {
        "id": "YuokjjwQY_RH",
        "colab_type": "code",
        "colab": {}
      },
      "source": [
        "program hello\n",
        "    implicit none\n",
        "    print*, \"Hello, World!\"\n",
        "end program"
      ],
      "execution_count": 0,
      "outputs": []
    }
  ]
}