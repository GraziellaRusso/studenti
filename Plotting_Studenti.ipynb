{
  "nbformat": 4,
  "nbformat_minor": 0,
  "metadata": {
    "kernelspec": {
      "display_name": "Python 3",
      "language": "python",
      "name": "python3"
    },
    "language_info": {
      "codemirror_mode": {
        "name": "ipython",
        "version": 3
      },
      "file_extension": ".py",
      "mimetype": "text/x-python",
      "name": "python",
      "nbconvert_exporter": "python",
      "pygments_lexer": "ipython3",
      "version": "3.7.3"
    },
    "colab": {
      "name": "Plotting-Studenti.ipynb",
      "provenance": [],
      "include_colab_link": true
    }
  },
  "cells": [
    {
      "cell_type": "markdown",
      "metadata": {
        "id": "view-in-github",
        "colab_type": "text"
      },
      "source": [
        "<a href=\"https://colab.research.google.com/github/gmazzitelli/studenti/blob/master/Plotting_Studenti.ipynb\" target=\"_parent\"><img src=\"https://colab.research.google.com/assets/colab-badge.svg\" alt=\"Open In Colab\"/></a>"
      ]
    },
    {
      "cell_type": "code",
      "metadata": {
        "scrolled": false,
        "id": "DIeEpU9BPHvg",
        "colab_type": "code",
        "outputId": "22e00a61-bf68-43e8-c9ca-ba0de6900bfd",
        "colab": {
          "base_uri": "https://localhost:8080/",
          "height": 443
        }
      },
      "source": [
        "import pandas as pd\n",
        "import numpy as np\n",
        "import matplotlib.pyplot as plt\n",
        "\n",
        "%matplotlib inline\n",
        "\n",
        "info =pd.DataFrame([\n",
        "    {'scuola':'ITIS E. Fermi - Roma', 'data':'2017-01-20', 'titolo':'CoScienza al Verde', 'alunni':'30'},\n",
        "    {'scuola':'Paster - Roma', 'data':'2017-02-03', 'titolo':'Computing e Particelle', 'alunni':'50'},\n",
        "    {'scuola':'Plinio Seniore - Roma', 'data':'2017-02-24', 'titolo':'Focus Grupo Termodinamica', 'alunni':'20'},\n",
        "    {'scuola':'Giulio Cesare - Roma', 'data':'2017-04-10', 'titolo':'Fisica Moderna', 'alunni':'30'},\n",
        "    {'scuola':'Giulio Cesare - Roma', 'data':'2017-05-06', 'titolo':'Focus Grupo Termodinamica', 'alunni':'25'},\n",
        "    {'scuola':'Plinio Seniore - Roma', 'data':'2017-11-01', 'titolo':'Focus Grupo Termodinamica', 'alunni':'25'},\n",
        "    {'scuola':'Enriques - Ostia', 'data':'2018-01-22', 'titolo':'Fisica Moderna', 'alunni':'40'},\n",
        "    {'scuola':'Democrito - Casal Palocco 1/2', 'data':'2018-01-29', 'titolo':'Fisica Moderna', 'alunni':'140'},\n",
        "    {'scuola':'Azzarita - Roma', 'data':'2018-02-21', 'titolo':'Focus Grupo Termodinamica', 'alunni':'70'},\n",
        "    {'scuola':'Von Neumann - Roma', 'data':'2019-01-15', 'titolo':'Onde Gravitazionali', 'alunni':'30'},\n",
        "    {'scuola':'IIS Croce-Aleramo - Roma', 'data':'2019-01-22', 'titolo':'Energia e Ssotenibilità', 'alunni':'60'},\n",
        "    {'scuola':'Liceo Scientifico G. Pellecchia - Cassino', 'data':'2019-02-12', 'titolo':'Onde Gravitazionali', 'alunni':'120'},\n",
        "    {'scuola':'Faraday - Ostia', 'data':'2019-02-27', 'titolo':'Fisica Moderna', 'alunni':'30'},\n",
        "    {'scuola':'Azzarita - Roma', 'data':'2019-04-10', 'titolo':'Fisica Moderna', 'alunni':'40'},\n",
        "    {'scuola':'ITIS Cassino - Settimana della Scienza e della Tecnologia', 'data':'2020-01-14', 'titolo':'Sostenibilità, fisicamente impossibile?', 'alunni':'60'},\n",
        "    {'scuola':'Liceo Marconi - Colleferro', 'data':'2020-01-25', 'titolo':'L\\'Universo Oscuro', 'alunni':'50'}\n",
        "    ])\n",
        "\n",
        "\n",
        "ordine = ['MOLTO', 'ABBASTANZA', 'POCO', 'PER NIENTE']\n",
        "####\n",
        "# Atrire il file originale con EXCEL e salvarlo come \"Tab Delimited txt\" ########\n",
        "####\n",
        "df = pd.read_csv(\"/Users/mazzitel/Dropbox/edu/Dammi un feedback!.txt\", sep='\\t', header=0, encoding='latin1')\n",
        "\n",
        "df = df[pd.isnull(df['Vuoi fare la scienziata/o in futuro?']) == False] # purga da fake line insane\n",
        "\n",
        "###########              \n",
        "# decommentare per un range specifico e non selezionare per la scuuola.\n",
        "dataStart = '2017-01-01'\n",
        "dataEnd   = '2100-01-01'\n",
        "selectScuola = ''\n",
        "###########\n",
        "\n",
        "info=info.set_index(\"scuola\")\n",
        "#selectScuola = 'Faraday - Ostia'\n",
        "\n",
        "print (\"\\n\\n\")\n",
        "if selectScuola !='':\n",
        "    print (info.loc[selectScuola])\n",
        "\n",
        "print (\"\\n\\n\")\n",
        "\n",
        "if selectScuola !='':\n",
        "    dataStart = info.loc[selectScuola, 'data' ]\n",
        "if selectScuola !='':\n",
        "    date = info['data'].values\n",
        "    for i in range(0, len(date)):\n",
        "        if dataStart == date[i]:\n",
        "            if i+1 == len(date):\n",
        "                dataEnd   = '2100-01-01'\n",
        "            else:\n",
        "                dataEnd = date[i+1]\n",
        "\n",
        "\n",
        "\n",
        "# print dataStart, dataEnd\n",
        "df = df[(pd.to_datetime(df['Timestamp']) >= dataStart) & (pd.to_datetime(df['Timestamp']) < dataEnd)]\n",
        "for i in range(df.columns.get_loc('Sesso? '), len(df.columns)-1):\n",
        "    if i > df.columns.get_loc('Vuoi fare la scienziata/o in futuro?'):\n",
        "        pd.value_counts(df[df.columns[i]]).reindex(ordine).plot(\n",
        "            kind='bar'\n",
        "        )      \n",
        "        if i > df.columns.get_loc('Quanto ritieni adeguati i materiali ed esercizi presentati?'):\n",
        "            pd.value_counts(df[df.columns[i]][df['Vuoi fare la scienziata/o in futuro?'] == 'Si']).reindex(ordine).plot(\n",
        "                kind='bar', color='red'\n",
        "            )\n",
        "        \n",
        "    else:\n",
        "        pd.value_counts(df[df.columns[i]]).plot(kind='pie', table=True)\n",
        "    print (df[df.columns[i]].describe())\n",
        "    plt.xticks(rotation=45)\n",
        "    plt.show()\n",
        "dp = df['Commenti e suggerimenti:'][pd.isnull(df['Commenti e suggerimenti:']) == False]\n",
        "for i in range (0, len(dp.values)):\n",
        "    print (i, dp.values[i])"
      ],
      "execution_count": 4,
      "outputs": [
        {
          "output_type": "error",
          "ename": "FileNotFoundError",
          "evalue": "ignored",
          "traceback": [
            "\u001b[0;31m---------------------------------------------------------------------------\u001b[0m",
            "\u001b[0;31mFileNotFoundError\u001b[0m                         Traceback (most recent call last)",
            "\u001b[0;32m<ipython-input-4-468002e71a68>\u001b[0m in \u001b[0;36m<module>\u001b[0;34m()\u001b[0m\n\u001b[1;32m     29\u001b[0m \u001b[0;31m# Atrire il file originale con EXCEL e salvarlo come \"Tab Delimited txt\" ########\u001b[0m\u001b[0;34m\u001b[0m\u001b[0;34m\u001b[0m\u001b[0;34m\u001b[0m\u001b[0m\n\u001b[1;32m     30\u001b[0m \u001b[0;31m####\u001b[0m\u001b[0;34m\u001b[0m\u001b[0;34m\u001b[0m\u001b[0;34m\u001b[0m\u001b[0m\n\u001b[0;32m---> 31\u001b[0;31m \u001b[0mdf\u001b[0m \u001b[0;34m=\u001b[0m \u001b[0mpd\u001b[0m\u001b[0;34m.\u001b[0m\u001b[0mread_csv\u001b[0m\u001b[0;34m(\u001b[0m\u001b[0;34m\"/Users/mazzitel/Dropbox/edu/Dammi un feedback!.txt\"\u001b[0m\u001b[0;34m,\u001b[0m \u001b[0msep\u001b[0m\u001b[0;34m=\u001b[0m\u001b[0;34m'\\t'\u001b[0m\u001b[0;34m,\u001b[0m \u001b[0mheader\u001b[0m\u001b[0;34m=\u001b[0m\u001b[0;36m0\u001b[0m\u001b[0;34m,\u001b[0m \u001b[0mencoding\u001b[0m\u001b[0;34m=\u001b[0m\u001b[0;34m'latin1'\u001b[0m\u001b[0;34m)\u001b[0m\u001b[0;34m\u001b[0m\u001b[0;34m\u001b[0m\u001b[0m\n\u001b[0m\u001b[1;32m     32\u001b[0m \u001b[0;34m\u001b[0m\u001b[0m\n\u001b[1;32m     33\u001b[0m \u001b[0mdf\u001b[0m \u001b[0;34m=\u001b[0m \u001b[0mdf\u001b[0m\u001b[0;34m[\u001b[0m\u001b[0mpd\u001b[0m\u001b[0;34m.\u001b[0m\u001b[0misnull\u001b[0m\u001b[0;34m(\u001b[0m\u001b[0mdf\u001b[0m\u001b[0;34m[\u001b[0m\u001b[0;34m'Vuoi fare la scienziata/o in futuro?'\u001b[0m\u001b[0;34m]\u001b[0m\u001b[0;34m)\u001b[0m \u001b[0;34m==\u001b[0m \u001b[0;32mFalse\u001b[0m\u001b[0;34m]\u001b[0m \u001b[0;31m# purga da fake line insane\u001b[0m\u001b[0;34m\u001b[0m\u001b[0;34m\u001b[0m\u001b[0m\n",
            "\u001b[0;32m/usr/local/lib/python3.6/dist-packages/pandas/io/parsers.py\u001b[0m in \u001b[0;36mparser_f\u001b[0;34m(filepath_or_buffer, sep, delimiter, header, names, index_col, usecols, squeeze, prefix, mangle_dupe_cols, dtype, engine, converters, true_values, false_values, skipinitialspace, skiprows, skipfooter, nrows, na_values, keep_default_na, na_filter, verbose, skip_blank_lines, parse_dates, infer_datetime_format, keep_date_col, date_parser, dayfirst, cache_dates, iterator, chunksize, compression, thousands, decimal, lineterminator, quotechar, quoting, doublequote, escapechar, comment, encoding, dialect, error_bad_lines, warn_bad_lines, delim_whitespace, low_memory, memory_map, float_precision)\u001b[0m\n\u001b[1;32m    683\u001b[0m         )\n\u001b[1;32m    684\u001b[0m \u001b[0;34m\u001b[0m\u001b[0m\n\u001b[0;32m--> 685\u001b[0;31m         \u001b[0;32mreturn\u001b[0m \u001b[0m_read\u001b[0m\u001b[0;34m(\u001b[0m\u001b[0mfilepath_or_buffer\u001b[0m\u001b[0;34m,\u001b[0m \u001b[0mkwds\u001b[0m\u001b[0;34m)\u001b[0m\u001b[0;34m\u001b[0m\u001b[0;34m\u001b[0m\u001b[0m\n\u001b[0m\u001b[1;32m    686\u001b[0m \u001b[0;34m\u001b[0m\u001b[0m\n\u001b[1;32m    687\u001b[0m     \u001b[0mparser_f\u001b[0m\u001b[0;34m.\u001b[0m\u001b[0m__name__\u001b[0m \u001b[0;34m=\u001b[0m \u001b[0mname\u001b[0m\u001b[0;34m\u001b[0m\u001b[0;34m\u001b[0m\u001b[0m\n",
            "\u001b[0;32m/usr/local/lib/python3.6/dist-packages/pandas/io/parsers.py\u001b[0m in \u001b[0;36m_read\u001b[0;34m(filepath_or_buffer, kwds)\u001b[0m\n\u001b[1;32m    455\u001b[0m \u001b[0;34m\u001b[0m\u001b[0m\n\u001b[1;32m    456\u001b[0m     \u001b[0;31m# Create the parser.\u001b[0m\u001b[0;34m\u001b[0m\u001b[0;34m\u001b[0m\u001b[0;34m\u001b[0m\u001b[0m\n\u001b[0;32m--> 457\u001b[0;31m     \u001b[0mparser\u001b[0m \u001b[0;34m=\u001b[0m \u001b[0mTextFileReader\u001b[0m\u001b[0;34m(\u001b[0m\u001b[0mfp_or_buf\u001b[0m\u001b[0;34m,\u001b[0m \u001b[0;34m**\u001b[0m\u001b[0mkwds\u001b[0m\u001b[0;34m)\u001b[0m\u001b[0;34m\u001b[0m\u001b[0;34m\u001b[0m\u001b[0m\n\u001b[0m\u001b[1;32m    458\u001b[0m \u001b[0;34m\u001b[0m\u001b[0m\n\u001b[1;32m    459\u001b[0m     \u001b[0;32mif\u001b[0m \u001b[0mchunksize\u001b[0m \u001b[0;32mor\u001b[0m \u001b[0miterator\u001b[0m\u001b[0;34m:\u001b[0m\u001b[0;34m\u001b[0m\u001b[0;34m\u001b[0m\u001b[0m\n",
            "\u001b[0;32m/usr/local/lib/python3.6/dist-packages/pandas/io/parsers.py\u001b[0m in \u001b[0;36m__init__\u001b[0;34m(self, f, engine, **kwds)\u001b[0m\n\u001b[1;32m    893\u001b[0m             \u001b[0mself\u001b[0m\u001b[0;34m.\u001b[0m\u001b[0moptions\u001b[0m\u001b[0;34m[\u001b[0m\u001b[0;34m\"has_index_names\"\u001b[0m\u001b[0;34m]\u001b[0m \u001b[0;34m=\u001b[0m \u001b[0mkwds\u001b[0m\u001b[0;34m[\u001b[0m\u001b[0;34m\"has_index_names\"\u001b[0m\u001b[0;34m]\u001b[0m\u001b[0;34m\u001b[0m\u001b[0;34m\u001b[0m\u001b[0m\n\u001b[1;32m    894\u001b[0m \u001b[0;34m\u001b[0m\u001b[0m\n\u001b[0;32m--> 895\u001b[0;31m         \u001b[0mself\u001b[0m\u001b[0;34m.\u001b[0m\u001b[0m_make_engine\u001b[0m\u001b[0;34m(\u001b[0m\u001b[0mself\u001b[0m\u001b[0;34m.\u001b[0m\u001b[0mengine\u001b[0m\u001b[0;34m)\u001b[0m\u001b[0;34m\u001b[0m\u001b[0;34m\u001b[0m\u001b[0m\n\u001b[0m\u001b[1;32m    896\u001b[0m \u001b[0;34m\u001b[0m\u001b[0m\n\u001b[1;32m    897\u001b[0m     \u001b[0;32mdef\u001b[0m \u001b[0mclose\u001b[0m\u001b[0;34m(\u001b[0m\u001b[0mself\u001b[0m\u001b[0;34m)\u001b[0m\u001b[0;34m:\u001b[0m\u001b[0;34m\u001b[0m\u001b[0;34m\u001b[0m\u001b[0m\n",
            "\u001b[0;32m/usr/local/lib/python3.6/dist-packages/pandas/io/parsers.py\u001b[0m in \u001b[0;36m_make_engine\u001b[0;34m(self, engine)\u001b[0m\n\u001b[1;32m   1133\u001b[0m     \u001b[0;32mdef\u001b[0m \u001b[0m_make_engine\u001b[0m\u001b[0;34m(\u001b[0m\u001b[0mself\u001b[0m\u001b[0;34m,\u001b[0m \u001b[0mengine\u001b[0m\u001b[0;34m=\u001b[0m\u001b[0;34m\"c\"\u001b[0m\u001b[0;34m)\u001b[0m\u001b[0;34m:\u001b[0m\u001b[0;34m\u001b[0m\u001b[0;34m\u001b[0m\u001b[0m\n\u001b[1;32m   1134\u001b[0m         \u001b[0;32mif\u001b[0m \u001b[0mengine\u001b[0m \u001b[0;34m==\u001b[0m \u001b[0;34m\"c\"\u001b[0m\u001b[0;34m:\u001b[0m\u001b[0;34m\u001b[0m\u001b[0;34m\u001b[0m\u001b[0m\n\u001b[0;32m-> 1135\u001b[0;31m             \u001b[0mself\u001b[0m\u001b[0;34m.\u001b[0m\u001b[0m_engine\u001b[0m \u001b[0;34m=\u001b[0m \u001b[0mCParserWrapper\u001b[0m\u001b[0;34m(\u001b[0m\u001b[0mself\u001b[0m\u001b[0;34m.\u001b[0m\u001b[0mf\u001b[0m\u001b[0;34m,\u001b[0m \u001b[0;34m**\u001b[0m\u001b[0mself\u001b[0m\u001b[0;34m.\u001b[0m\u001b[0moptions\u001b[0m\u001b[0;34m)\u001b[0m\u001b[0;34m\u001b[0m\u001b[0;34m\u001b[0m\u001b[0m\n\u001b[0m\u001b[1;32m   1136\u001b[0m         \u001b[0;32melse\u001b[0m\u001b[0;34m:\u001b[0m\u001b[0;34m\u001b[0m\u001b[0;34m\u001b[0m\u001b[0m\n\u001b[1;32m   1137\u001b[0m             \u001b[0;32mif\u001b[0m \u001b[0mengine\u001b[0m \u001b[0;34m==\u001b[0m \u001b[0;34m\"python\"\u001b[0m\u001b[0;34m:\u001b[0m\u001b[0;34m\u001b[0m\u001b[0;34m\u001b[0m\u001b[0m\n",
            "\u001b[0;32m/usr/local/lib/python3.6/dist-packages/pandas/io/parsers.py\u001b[0m in \u001b[0;36m__init__\u001b[0;34m(self, src, **kwds)\u001b[0m\n\u001b[1;32m   1915\u001b[0m         \u001b[0mkwds\u001b[0m\u001b[0;34m[\u001b[0m\u001b[0;34m\"usecols\"\u001b[0m\u001b[0;34m]\u001b[0m \u001b[0;34m=\u001b[0m \u001b[0mself\u001b[0m\u001b[0;34m.\u001b[0m\u001b[0musecols\u001b[0m\u001b[0;34m\u001b[0m\u001b[0;34m\u001b[0m\u001b[0m\n\u001b[1;32m   1916\u001b[0m \u001b[0;34m\u001b[0m\u001b[0m\n\u001b[0;32m-> 1917\u001b[0;31m         \u001b[0mself\u001b[0m\u001b[0;34m.\u001b[0m\u001b[0m_reader\u001b[0m \u001b[0;34m=\u001b[0m \u001b[0mparsers\u001b[0m\u001b[0;34m.\u001b[0m\u001b[0mTextReader\u001b[0m\u001b[0;34m(\u001b[0m\u001b[0msrc\u001b[0m\u001b[0;34m,\u001b[0m \u001b[0;34m**\u001b[0m\u001b[0mkwds\u001b[0m\u001b[0;34m)\u001b[0m\u001b[0;34m\u001b[0m\u001b[0;34m\u001b[0m\u001b[0m\n\u001b[0m\u001b[1;32m   1918\u001b[0m         \u001b[0mself\u001b[0m\u001b[0;34m.\u001b[0m\u001b[0munnamed_cols\u001b[0m \u001b[0;34m=\u001b[0m \u001b[0mself\u001b[0m\u001b[0;34m.\u001b[0m\u001b[0m_reader\u001b[0m\u001b[0;34m.\u001b[0m\u001b[0munnamed_cols\u001b[0m\u001b[0;34m\u001b[0m\u001b[0;34m\u001b[0m\u001b[0m\n\u001b[1;32m   1919\u001b[0m \u001b[0;34m\u001b[0m\u001b[0m\n",
            "\u001b[0;32mpandas/_libs/parsers.pyx\u001b[0m in \u001b[0;36mpandas._libs.parsers.TextReader.__cinit__\u001b[0;34m()\u001b[0m\n",
            "\u001b[0;32mpandas/_libs/parsers.pyx\u001b[0m in \u001b[0;36mpandas._libs.parsers.TextReader._setup_parser_source\u001b[0;34m()\u001b[0m\n",
            "\u001b[0;31mFileNotFoundError\u001b[0m: [Errno 2] File b'/Users/mazzitel/Dropbox/edu/Dammi un feedback!.txt' does not exist: b'/Users/mazzitel/Dropbox/edu/Dammi un feedback!.txt'"
          ]
        }
      ]
    },
    {
      "cell_type": "code",
      "metadata": {
        "id": "JufWmvhSPHvi",
        "colab_type": "code",
        "outputId": "16787dd5-bf99-4926-9da6-a9bd20cf1462",
        "colab": {}
      },
      "source": [
        "info=info.set_index(\"titolo\")\n",
        "selectTitolo = 'Focus Grupo Termodinamica'\n",
        "print (\"\\n\\n\")\n",
        "if selectTitolo !='':\n",
        "    print (info.loc[selectTitolo])\n",
        "if selectTitolo !='':\n",
        "    dataStart = info.loc[selectTitolo, 'data' ]\n",
        "\n",
        "if selectScuola !='':\n",
        "    date = info['data'].values\n",
        "    for i in range(0, len(date)):\n",
        "        if dataStart == date[i]:\n",
        "            if i+1 == len(date):\n",
        "                dataEnd   = '2100-01-01'\n",
        "            else:\n",
        "                dataEnd = date[i+1]"
      ],
      "execution_count": 0,
      "outputs": [
        {
          "output_type": "stream",
          "text": [
            "\n",
            "\n",
            "\n",
            "                          alunni        data\n",
            "titolo                                      \n",
            "Focus Grupo Termodinamica     20  2017-02-24\n",
            "Focus Grupo Termodinamica     25  2017-05-06\n",
            "Focus Grupo Termodinamica     25  2017-11-01\n",
            "Focus Grupo Termodinamica     70  2018-02-21\n"
          ],
          "name": "stdout"
        }
      ]
    },
    {
      "cell_type": "code",
      "metadata": {
        "id": "G-KNF84HPHvk",
        "colab_type": "code",
        "colab": {}
      },
      "source": [
        ""
      ],
      "execution_count": 0,
      "outputs": []
    }
  ]
}