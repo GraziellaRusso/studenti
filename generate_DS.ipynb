{
  "nbformat": 4,
  "nbformat_minor": 0,
  "metadata": {
    "kernelspec": {
      "name": "python2",
      "display_name": "Python 2"
    },
    "colab": {
      "name": "generate_DS.ipynb",
      "provenance": [],
      "include_colab_link": true
    }
  },
  "cells": [
    {
      "cell_type": "markdown",
      "metadata": {
        "id": "view-in-github",
        "colab_type": "text"
      },
      "source": [
        "<a href=\"https://colab.research.google.com/github/gmazzitelli/studenti/blob/master/generate_DS.ipynb\" target=\"_parent\"><img src=\"https://colab.research.google.com/assets/colab-badge.svg\" alt=\"Open In Colab\"/></a>"
      ]
    },
    {
      "cell_type": "markdown",
      "metadata": {
        "id": "WdtyA62GlVUw",
        "colab_type": "text"
      },
      "source": [
        "This code load ROOT, python 2 environment. Runs this part only the first time."
      ]
    },
    {
      "cell_type": "code",
      "metadata": {
        "id": "J3hGfE_u8_Ed",
        "colab_type": "code",
        "colab": {
          "base_uri": "https://localhost:8080/",
          "height": 408
        },
        "outputId": "d94c2337-ae25-4a9e-b81f-213bf628e864"
      },
      "source": [
        "!mkdir -p APPS\n",
        "!pwd\n",
        "!cd APPS && wget https://root.cern.ch/download/root_v6.13.08.Linux-ubuntu18-x86_64-gcc7.3.tar.gz \n",
        "!cd APPS && tar -xf root_v6.13.08.Linux-ubuntu18-x86_64-gcc7.3.tar.gz\n",
        "\n",
        "import sys\n",
        "sys.path.append(\"/content/APPS/root/lib\")\n",
        "import ctypes\n",
        "ctypes.cdll.LoadLibrary('/content/APPS/root/lib/libCore.so')\n",
        "ctypes.cdll.LoadLibrary('/content/APPS/root/lib/libThread.so')\n",
        "ctypes.cdll.LoadLibrary('/content/APPS/root/lib/libImt.so')\n",
        "ctypes.cdll.LoadLibrary('/content/APPS/root/lib/libRIO.so')\n",
        "ctypes.cdll.LoadLibrary('/content/APPS/root/lib/libNet.so')\n",
        "ctypes.cdll.LoadLibrary('/content/APPS/root/lib/libTree.so')\n",
        "ctypes.cdll.LoadLibrary('/content/APPS/root/lib/libMathCore.so')\n",
        "ctypes.cdll.LoadLibrary('/content/APPS/root/lib/libMatrix.so')\n",
        "ctypes.cdll.LoadLibrary('/content/APPS/root/lib/libHist.so')\n",
        "ctypes.cdll.LoadLibrary('/content/APPS/root/lib/libGraf.so')\n",
        "!pip install root-numpy\n",
        "ctypes.cdll.LoadLibrary('/content/APPS/root/lib/libMultiProc.so')\n",
        "ctypes.cdll.LoadLibrary('/content/APPS/root/lib/libGpad.so')\n",
        "ctypes.cdll.LoadLibrary('/content/APPS/root/lib/libGraf3d.so')\n",
        "ctypes.cdll.LoadLibrary('/content/APPS/root/lib/libTreePlayer.so')"
      ],
      "execution_count": 1,
      "outputs": [
        {
          "output_type": "stream",
          "text": [
            "/content\n",
            "--2019-12-02 09:19:25--  https://root.cern.ch/download/root_v6.13.08.Linux-ubuntu18-x86_64-gcc7.3.tar.gz\n",
            "Resolving root.cern.ch (root.cern.ch)... 137.138.13.143, 2001:1458:201:45::100:b\n",
            "Connecting to root.cern.ch (root.cern.ch)|137.138.13.143|:443... connected.\n",
            "HTTP request sent, awaiting response... 200 OK\n",
            "Length: 137415272 (131M) [application/x-gzip]\n",
            "Saving to: ‘root_v6.13.08.Linux-ubuntu18-x86_64-gcc7.3.tar.gz’\n",
            "\n",
            "root_v6.13.08.Linux 100%[===================>] 131.05M  99.8MB/s    in 1.3s    \n",
            "\n",
            "2019-12-02 09:19:26 (99.8 MB/s) - ‘root_v6.13.08.Linux-ubuntu18-x86_64-gcc7.3.tar.gz’ saved [137415272/137415272]\n",
            "\n",
            "Collecting root-numpy\n",
            "\u001b[?25l  Downloading https://files.pythonhosted.org/packages/d5/5f/82f5111c22599676eb8b5f9b1bf85c38dcc7995d52cd6b4a8f5f5caa4659/root_numpy-4.8.0.tar.gz (520kB)\n",
            "\u001b[K     |████████████████████████████████| 522kB 9.8MB/s \n",
            "\u001b[?25hBuilding wheels for collected packages: root-numpy\n",
            "  Building wheel for root-numpy (setup.py) ... \u001b[?25l\u001b[?25hdone\n",
            "  Created wheel for root-numpy: filename=root_numpy-4.8.0-cp27-cp27mu-linux_x86_64.whl size=1620962 sha256=24747d7bcb8a938e7059dd42cad565ce9827e9718e04124cec8ad1fe8b4118fb\n",
            "  Stored in directory: /root/.cache/pip/wheels/f0/3c/18/62ccf3aec0284175916617d699f179d7cdbe4de0c7070be2a5\n",
            "Successfully built root-numpy\n",
            "Installing collected packages: root-numpy\n",
            "Successfully installed root-numpy-4.8.0\n"
          ],
          "name": "stdout"
        },
        {
          "output_type": "execute_result",
          "data": {
            "text/plain": [
              "<CDLL '/content/APPS/root/lib/libTreePlayer.so', handle 55d7d5bced00 at 7f9ce36d4450>"
            ]
          },
          "metadata": {
            "tags": []
          },
          "execution_count": 1
        }
      ]
    },
    {
      "cell_type": "markdown",
      "metadata": {
        "id": "we6YOk--lz0r",
        "colab_type": "text"
      },
      "source": [
        "Load the funcion to retrive data from swift CYGNO server"
      ]
    },
    {
      "cell_type": "code",
      "metadata": {
        "id": "wsGb5OQR8jIr",
        "colab_type": "code",
        "colab": {
          "base_uri": "https://localhost:8080/",
          "height": 442
        },
        "outputId": "0e0958f1-7504-4fee-f955-8f241bdcf03d"
      },
      "source": [
        "import matplotlib.pyplot as plt\n",
        "import numpy as np    \n",
        "import ROOT\n",
        "from root_numpy import hist2array\n",
        "%matplotlib inline\n",
        "! rm cygnus_lib.*; rm mylib.*\n",
        "! wget https://raw.githubusercontent.com/gmazzitelli/cygno/master/cygnus_lib.py\n",
        "! wget https://raw.githubusercontent.com/gmazzitelli/cygno/master/mylib.py\n",
        "sys.path.append('.')\n",
        "import cygnus_lib as cy\n",
        "import mylib as my\n",
        "import matplotlib.pyplot as plt\n",
        "%matplotlib inline\n",
        "\n"
      ],
      "execution_count": 2,
      "outputs": [
        {
          "output_type": "stream",
          "text": [
            "Welcome to JupyROOT 6.13/08\n",
            "rm: cannot remove 'cygnus_lib.*': No such file or directory\n",
            "rm: cannot remove 'mylib.*': No such file or directory\n",
            "--2019-12-02 09:20:18--  https://raw.githubusercontent.com/gmazzitelli/cygno/master/cygnus_lib.py\n",
            "Resolving raw.githubusercontent.com (raw.githubusercontent.com)... 151.101.0.133, 151.101.64.133, 151.101.128.133, ...\n",
            "Connecting to raw.githubusercontent.com (raw.githubusercontent.com)|151.101.0.133|:443... connected.\n",
            "HTTP request sent, awaiting response... 200 OK\n",
            "Length: 24095 (24K) [text/plain]\n",
            "Saving to: ‘cygnus_lib.py’\n",
            "\n",
            "cygnus_lib.py       100%[===================>]  23.53K  --.-KB/s    in 0.004s  \n",
            "\n",
            "2019-12-02 09:20:19 (6.28 MB/s) - ‘cygnus_lib.py’ saved [24095/24095]\n",
            "\n",
            "--2019-12-02 09:20:20--  https://raw.githubusercontent.com/gmazzitelli/cygno/master/mylib.py\n",
            "Resolving raw.githubusercontent.com (raw.githubusercontent.com)... 151.101.0.133, 151.101.64.133, 151.101.128.133, ...\n",
            "Connecting to raw.githubusercontent.com (raw.githubusercontent.com)|151.101.0.133|:443... connected.\n",
            "HTTP request sent, awaiting response... 200 OK\n",
            "Length: 17634 (17K) [text/plain]\n",
            "Saving to: ‘mylib.py’\n",
            "\n",
            "mylib.py            100%[===================>]  17.22K  --.-KB/s    in 0.003s  \n",
            "\n",
            "2019-12-02 09:20:20 (6.57 MB/s) - ‘mylib.py’ saved [17634/17634]\n",
            "\n"
          ],
          "name": "stdout"
        }
      ]
    },
    {
      "cell_type": "code",
      "metadata": {
        "id": "SAEalomj6Fik",
        "colab_type": "code",
        "colab": {}
      },
      "source": [
        "import pandas as pd\n",
        "from scipy.optimize import curve_fit\n",
        "from scipy.stats import chisquare\n",
        "import scipy.stats as stats\n",
        "from itertools import combinations\n",
        "import math\n",
        "%matplotlib inline\n",
        "x_resolution = y_resolution = 2048\n",
        "cy.set_atlas_style('square')\n",
        "from sklearn.cluster import DBSCAN\n",
        "from sklearn.preprocessing import StandardScaler"
      ],
      "execution_count": 0,
      "outputs": []
    },
    {
      "cell_type": "markdown",
      "metadata": {
        "id": "g0Z1nMtFj0oX",
        "colab_type": "text"
      },
      "source": [
        "download file [rum] from [tag] "
      ]
    },
    {
      "cell_type": "code",
      "metadata": {
        "id": "j7TtYehJZ4cE",
        "colab_type": "code",
        "colab": {
          "base_uri": "https://localhost:8080/",
          "height": 300
        },
        "outputId": "55b1386c-edad-449e-fe96-acdabb2fe45e"
      },
      "source": [
        "runI          = [2346] \n",
        "run_ped       = 2340 \n",
        "cimax         = 300\n",
        "cimin         = 0 \n",
        "dataSelection = 'LAB'\n",
        "rescale       = 512\n",
        "nsigma        = 1.8\n",
        "\n",
        "\n",
        "\n",
        "#########################\n",
        "\n",
        "try:\n",
        "    fileoutm = (\"./data/run%d_mean.h5\" % (run_ped))\n",
        "    m_image = cy.read_image_h5(fileoutm)\n",
        "    PedOverMax = m_image[m_image > cimax].size\n",
        "    print (\"Pedestal mean: %.2f, sigma: %.2f, over th. (%d) %d\" % \n",
        "       (m_image[m_image<cimax].mean(), \n",
        "        np.sqrt(m_image[m_image<cimax].var()), cimax,\n",
        "        (m_image>cimax).sum()))\n",
        "except:\n",
        "    print (\"No Pedestal file for run %s, run script runs-pedestals.ipynb\" % run_ped)\n",
        "    print (\"STOP\")\n",
        "\n",
        "    \n",
        "try: \n",
        "    fileouts = (\"./data/run%d_sigma.h5\" % (run_ped))\n",
        "    s_image = cy.read_image_h5(fileouts)\n",
        "    print (\"Sigma mean: %.2f, sigma: %.2f, over th. (50) %d\" % \n",
        "   (s_image[s_image<50].mean(), \n",
        "    np.sqrt(s_image[s_image<50].var()), \n",
        "    (s_image>50).sum()))\n",
        "except:\n",
        "    print (\"No Sigma file for run %s, run script runs-pedestals.ipynb\" % run_ped)\n",
        "    print (\"STOP\")\n",
        "\n",
        "#########################\n",
        "\n",
        "th_image   = np.round(m_image + nsigma*s_image)\n",
        "print (\"light over Th: %.2f \" % (th_image.sum()-m_image.sum()))\n",
        "\n",
        "    \n",
        "    \n",
        "for nRi in range(0,len(runI)):\n",
        "    try:\n",
        "        print ('Download and open file: '+cy.swift_root_file(dataSelection, runI[nRi]))\n",
        "        tmp_file = cy.swift_download_file(cy.swift_root_file(dataSelection, runI[nRi]))\n",
        "        print ('Open file: '+tmp_file)\n",
        "        f  = ROOT.TFile.Open(tmp_file);\n",
        "        print ('Find Keys: '+str(len(f.GetListOfKeys())))\n",
        "        pic, wfm = cy.root_TH2_name(f)\n",
        "        max_image = len(pic)\n",
        "        max_wfm = len(wfm)\n",
        "        print (\"# of Images (TH2) Files: %d \" % (max_image))\n",
        "        print (\"# of Waveform (TH2) Files: %d \" % (max_wfm))\n",
        "        nImag=max_image\n",
        "    except:\n",
        "        print (\"ERROR: No file %d\" % (runI[nRi]))\n",
        "        break\n",
        "\n",
        "    data_to_save = []\n",
        "    files = (\"./data/dbscan_run%d_cmin_%d_cmax_%d_rescale_%d_nsigma_%.1f_ev_%d_ped_%d.txt\" % \n",
        "                     (runI[nRi], cimin, cimax, rescale, nsigma, max_image, run_ped))\n",
        "    for iTr in range(0, max_image):\n",
        "        if iTr % 10 == 0:\n",
        "            print ('RUN: ', runI[nRi], 'Event: ', iTr)\n",
        "            print (iTr, ' >> Close and re-Open: ', tmp_file)\n",
        "            f.Close()\n",
        "            f  = ROOT.TFile.Open(tmp_file);\n",
        "\n",
        "        image = rtnp.hist2array(f.Get(pic[iTr])).T\n",
        "\n",
        "        rebin_image     = cy.rebin(image-m_image, (rescale, rescale))  \n",
        "        rebin_th_image  = cy.rebin((th_image-m_image), (rescale, rescale))\n",
        "\n",
        "        edges           = (rebin_image > rebin_th_image) & (rebin_image < cimax)         \n",
        "        points          = np.array(np.nonzero(edges)).T.astype(float) \n",
        "        scaler          = StandardScaler()\n",
        "        X_scaled        = scaler.fit_transform(points)\n",
        "\n",
        "        dbscan          = DBSCAN(eps=0.05, min_samples = 2)\n",
        "        dbscan.fit(points)\n",
        "\n",
        "        clusters = dbscan.fit_predict(X_scaled)\n",
        "\n",
        "        for ic in range (min(dbscan.labels_), max(dbscan.labels_)):\n",
        "            ph = 0.\n",
        "            # print (\"value: \", iTr, ic, dbscan.labels_[ic], min(dbscan.labels_), max(dbscan.labels_))\n",
        "            yc = points[:,1][dbscan.labels_==ic]\n",
        "            xc = points[:,0][dbscan.labels_==ic]\n",
        "            ph, dim = cy.cluster_par(yc, xc, rebin_image)\n",
        "            width, height, pearson = cy.confidence_ellipse_par(yc,xc)\n",
        "            for j in range(0, dim):\n",
        "                x=int(xc[j])\n",
        "                y=int(yc[j])\n",
        "                #ph += rebin_image[y,x]\n",
        "                if j == 0:\n",
        "                    x0start = x\n",
        "                    y0start = y\n",
        "            x0end = x\n",
        "            y0end = y\n",
        "            data_to_save.append([iTr, ic, dim, ph, ph/dim, \n",
        "                                 x0start, y0start, x0end, y0end, width, height, pearson])\n",
        "\n",
        "    np.savetxt(files, data_to_save, fmt='%.10e', delimiter=\" \")\n",
        "    print (\"out file\", files)\n",
        "    if not cy.rm_file(tmp_file):\n",
        "        print (\">> File \"+tmp_file+\" removed\")"
      ],
      "execution_count": 4,
      "outputs": [
        {
          "output_type": "stream",
          "text": [
            "No Pedestal file for run 2340, run script runs-pedestals.ipynb\n",
            "STOP\n",
            "No Sigma file for run 2340, run script runs-pedestals.ipynb\n",
            "STOP\n"
          ],
          "name": "stdout"
        },
        {
          "output_type": "error",
          "ename": "NameError",
          "evalue": "ignored",
          "traceback": [
            "\u001b[0;31m\u001b[0m",
            "\u001b[0;31mNameError\u001b[0mTraceback (most recent call last)",
            "\u001b[0;32m<ipython-input-4-1c054f9fd3f2>\u001b[0m in \u001b[0;36m<module>\u001b[0;34m()\u001b[0m\n\u001b[1;32m     37\u001b[0m \u001b[0;31m#########################\u001b[0m\u001b[0;34m\u001b[0m\u001b[0;34m\u001b[0m\u001b[0;34m\u001b[0m\u001b[0m\n\u001b[1;32m     38\u001b[0m \u001b[0;34m\u001b[0m\u001b[0m\n\u001b[0;32m---> 39\u001b[0;31m \u001b[0mth_image\u001b[0m   \u001b[0;34m=\u001b[0m \u001b[0mnp\u001b[0m\u001b[0;34m.\u001b[0m\u001b[0mround\u001b[0m\u001b[0;34m(\u001b[0m\u001b[0mm_image\u001b[0m \u001b[0;34m+\u001b[0m \u001b[0mnsigma\u001b[0m\u001b[0;34m*\u001b[0m\u001b[0ms_image\u001b[0m\u001b[0;34m)\u001b[0m\u001b[0;34m\u001b[0m\u001b[0;34m\u001b[0m\u001b[0m\n\u001b[0m\u001b[1;32m     40\u001b[0m \u001b[0;32mprint\u001b[0m \u001b[0;34m(\u001b[0m\u001b[0;34m\"light over Th: %.2f \"\u001b[0m \u001b[0;34m%\u001b[0m \u001b[0;34m(\u001b[0m\u001b[0mth_image\u001b[0m\u001b[0;34m.\u001b[0m\u001b[0msum\u001b[0m\u001b[0;34m(\u001b[0m\u001b[0;34m)\u001b[0m\u001b[0;34m-\u001b[0m\u001b[0mm_image\u001b[0m\u001b[0;34m.\u001b[0m\u001b[0msum\u001b[0m\u001b[0;34m(\u001b[0m\u001b[0;34m)\u001b[0m\u001b[0;34m)\u001b[0m\u001b[0;34m)\u001b[0m\u001b[0;34m\u001b[0m\u001b[0;34m\u001b[0m\u001b[0m\n\u001b[1;32m     41\u001b[0m \u001b[0;34m\u001b[0m\u001b[0m\n",
            "\u001b[0;31mNameError\u001b[0m: name 'm_image' is not defined"
          ]
        }
      ]
    }
  ]
}