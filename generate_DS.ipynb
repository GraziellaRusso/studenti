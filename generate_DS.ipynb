{
  "nbformat": 4,
  "nbformat_minor": 0,
  "metadata": {
    "kernelspec": {
      "name": "python2",
      "display_name": "Python 2"
    },
    "colab": {
      "name": "generate_DS.ipynb",
      "provenance": [],
      "include_colab_link": true
    }
  },
  "cells": [
    {
      "cell_type": "markdown",
      "metadata": {
        "id": "view-in-github",
        "colab_type": "text"
      },
      "source": [
        "<a href=\"https://colab.research.google.com/github/gmazzitelli/studenti/blob/master/generate_DS.ipynb\" target=\"_parent\"><img src=\"https://colab.research.google.com/assets/colab-badge.svg\" alt=\"Open In Colab\"/></a>"
      ]
    },
    {
      "cell_type": "markdown",
      "metadata": {
        "id": "WdtyA62GlVUw",
        "colab_type": "text"
      },
      "source": [
        "This code load ROOT, python 2 environment. Runs this part only the first time."
      ]
    },
    {
      "cell_type": "code",
      "metadata": {
        "id": "J3hGfE_u8_Ed",
        "colab_type": "code",
        "outputId": "e33fdcaa-5184-4c93-8442-9ea69611fc82",
        "colab": {
          "base_uri": "https://localhost:8080/",
          "height": 428
        }
      },
      "source": [
        "!mkdir -p APPS\n",
        "!pwd\n",
        "!cd APPS && wget https://root.cern.ch/download/root_v6.13.08.Linux-ubuntu18-x86_64-gcc7.3.tar.gz \n",
        "!cd APPS && tar -xf root_v6.13.08.Linux-ubuntu18-x86_64-gcc7.3.tar.gz\n",
        "\n",
        "import sys\n",
        "sys.path.append(\"/content/APPS/root/lib\")\n",
        "import ctypes\n",
        "ctypes.cdll.LoadLibrary('/content/APPS/root/lib/libCore.so')\n",
        "ctypes.cdll.LoadLibrary('/content/APPS/root/lib/libThread.so')\n",
        "ctypes.cdll.LoadLibrary('/content/APPS/root/lib/libImt.so')\n",
        "ctypes.cdll.LoadLibrary('/content/APPS/root/lib/libRIO.so')\n",
        "ctypes.cdll.LoadLibrary('/content/APPS/root/lib/libNet.so')\n",
        "ctypes.cdll.LoadLibrary('/content/APPS/root/lib/libTree.so')\n",
        "ctypes.cdll.LoadLibrary('/content/APPS/root/lib/libMathCore.so')\n",
        "ctypes.cdll.LoadLibrary('/content/APPS/root/lib/libMatrix.so')\n",
        "ctypes.cdll.LoadLibrary('/content/APPS/root/lib/libHist.so')\n",
        "ctypes.cdll.LoadLibrary('/content/APPS/root/lib/libGraf.so')\n",
        "!pip install root-numpy\n",
        "ctypes.cdll.LoadLibrary('/content/APPS/root/lib/libMultiProc.so')\n",
        "ctypes.cdll.LoadLibrary('/content/APPS/root/lib/libGpad.so')\n",
        "ctypes.cdll.LoadLibrary('/content/APPS/root/lib/libGraf3d.so')\n",
        "ctypes.cdll.LoadLibrary('/content/APPS/root/lib/libTreePlayer.so')"
      ],
      "execution_count": 1,
      "outputs": [
        {
          "output_type": "stream",
          "text": [
            "/content\n",
            "--2019-12-02 12:55:27--  https://root.cern.ch/download/root_v6.13.08.Linux-ubuntu18-x86_64-gcc7.3.tar.gz\n",
            "Resolving root.cern.ch (root.cern.ch)... 137.138.13.143, 2001:1458:201:45::100:b\n",
            "Connecting to root.cern.ch (root.cern.ch)|137.138.13.143|:443... connected.\n",
            "HTTP request sent, awaiting response... 200 OK\n",
            "Length: 137415272 (131M) [application/x-gzip]\n",
            "Saving to: ‘root_v6.13.08.Linux-ubuntu18-x86_64-gcc7.3.tar.gz’\n",
            "\n",
            "root_v6.13.08.Linux 100%[===================>] 131.05M  19.5MB/s    in 7.9s    \n",
            "\n",
            "2019-12-02 12:55:35 (16.7 MB/s) - ‘root_v6.13.08.Linux-ubuntu18-x86_64-gcc7.3.tar.gz’ saved [137415272/137415272]\n",
            "\n",
            "Collecting root-numpy\n",
            "\u001b[?25l  Downloading https://files.pythonhosted.org/packages/d5/5f/82f5111c22599676eb8b5f9b1bf85c38dcc7995d52cd6b4a8f5f5caa4659/root_numpy-4.8.0.tar.gz (520kB)\n",
            "\u001b[K     |████████████████████████████████| 522kB 4.9MB/s \n",
            "\u001b[?25hBuilding wheels for collected packages: root-numpy\n",
            "  Building wheel for root-numpy (setup.py) ... \u001b[?25l\u001b[?25hdone\n",
            "  Created wheel for root-numpy: filename=root_numpy-4.8.0-cp27-cp27mu-linux_x86_64.whl size=1620974 sha256=cf7b1a9e89cff6151dfdb42e5f84d0611163ce5373f8edaa198a125e80535334\n",
            "  Stored in directory: /root/.cache/pip/wheels/f0/3c/18/62ccf3aec0284175916617d699f179d7cdbe4de0c7070be2a5\n",
            "Successfully built root-numpy\n",
            "Installing collected packages: root-numpy\n",
            "Successfully installed root-numpy-4.8.0\n"
          ],
          "name": "stdout"
        },
        {
          "output_type": "execute_result",
          "data": {
            "text/plain": [
              "<CDLL '/content/APPS/root/lib/libTreePlayer.so', handle 555acc5d1700 at 7ff33f914390>"
            ]
          },
          "metadata": {
            "tags": []
          },
          "execution_count": 1
        }
      ]
    },
    {
      "cell_type": "markdown",
      "metadata": {
        "id": "we6YOk--lz0r",
        "colab_type": "text"
      },
      "source": [
        "Load the funcion to retrive data from swift CYGNO server"
      ]
    },
    {
      "cell_type": "code",
      "metadata": {
        "id": "wsGb5OQR8jIr",
        "colab_type": "code",
        "outputId": "132823d9-a16a-4af6-cb92-72dd8fdf0ade",
        "colab": {
          "base_uri": "https://localhost:8080/",
          "height": 442
        }
      },
      "source": [
        "!pip install -q  python-swiftclient\n",
        "!pip install -q  keystoneauth1\n",
        "!pip install -q  h5py\n",
        "import matplotlib.pyplot as plt\n",
        "import numpy as np    \n",
        "import ROOT\n",
        "import root_numpy as rtnp\n",
        "! rm cygnus_lib.*; rm mylib.*\n",
        "! wget https://raw.githubusercontent.com/gmazzitelli/cygno/master/cygnus_lib.py\n",
        "! wget https://raw.githubusercontent.com/gmazzitelli/cygno/master/mylib.py\n",
        "sys.path.append('.')\n",
        "import cygnus_lib as cy\n",
        "import mylib as my\n",
        "%matplotlib inline\n",
        "import pandas as pd\n",
        "from scipy.optimize import curve_fit\n",
        "from scipy.stats import chisquare\n",
        "import scipy.stats as stats\n",
        "from itertools import combinations\n",
        "import math\n",
        "import os\n",
        "\n",
        "from sklearn.cluster import DBSCAN\n",
        "from sklearn.preprocessing import StandardScaler\n",
        "\n",
        "x_resolution = y_resolution = 2048\n",
        "cy.set_atlas_style('square')\n",
        "!mkdir -p data"
      ],
      "execution_count": 33,
      "outputs": [
        {
          "output_type": "stream",
          "text": [
            "\u001b[K     |████████████████████████████████| 92kB 4.2MB/s \n",
            "\u001b[K     |████████████████████████████████| 317kB 5.1MB/s \n",
            "\u001b[K     |████████████████████████████████| 51kB 5.9MB/s \n",
            "\u001b[?25h--2019-12-02 13:55:16--  https://raw.githubusercontent.com/gmazzitelli/cygno/master/cygnus_lib.py\n",
            "Resolving raw.githubusercontent.com (raw.githubusercontent.com)... 151.101.0.133, 151.101.64.133, 151.101.128.133, ...\n",
            "Connecting to raw.githubusercontent.com (raw.githubusercontent.com)|151.101.0.133|:443... connected.\n",
            "HTTP request sent, awaiting response... 200 OK\n",
            "Length: 24095 (24K) [text/plain]\n",
            "Saving to: ‘cygnus_lib.py’\n",
            "\n",
            "cygnus_lib.py       100%[===================>]  23.53K  --.-KB/s    in 0.007s  \n",
            "\n",
            "2019-12-02 13:55:16 (3.30 MB/s) - ‘cygnus_lib.py’ saved [24095/24095]\n",
            "\n",
            "--2019-12-02 13:55:18--  https://raw.githubusercontent.com/gmazzitelli/cygno/master/mylib.py\n",
            "Resolving raw.githubusercontent.com (raw.githubusercontent.com)... 151.101.0.133, 151.101.64.133, 151.101.128.133, ...\n",
            "Connecting to raw.githubusercontent.com (raw.githubusercontent.com)|151.101.0.133|:443... connected.\n",
            "HTTP request sent, awaiting response... 200 OK\n",
            "Length: 17634 (17K) [text/plain]\n",
            "Saving to: ‘mylib.py’\n",
            "\n",
            "mylib.py            100%[===================>]  17.22K  --.-KB/s    in 0.007s  \n",
            "\n",
            "2019-12-02 13:55:18 (2.50 MB/s) - ‘mylib.py’ saved [17634/17634]\n",
            "\n"
          ],
          "name": "stdout"
        }
      ]
    },
    {
      "cell_type": "code",
      "metadata": {
        "id": "WglZ8KEAr5Zn",
        "colab_type": "code",
        "colab": {
          "base_uri": "https://localhost:8080/",
          "height": 68
        },
        "outputId": "49df5ae6-92c9-4c45-e703-96bf861b3506"
      },
      "source": [
        "dataSelection = 'LAB'\n",
        "runI = [2340]\n",
        "start_image_to_read = 0\n",
        "max_image_to_read = 0\n",
        "for nRi in range(0,len(runI)):\n",
        "#############  mean and sigma file generator ############################\n",
        "    try:\n",
        "        print ('Download and open file: '+cy.swift_root_file(dataSelection, runI[nRi]))\n",
        "        tmp_file = cy.swift_download_file(cy.swift_root_file(dataSelection, runI[nRi]))\n",
        "        print ('Open file: '+tmp_file)\n",
        "        f  = ROOT.TFile.Open(tmp_file);\n",
        "        print ('Find Keys: '+str(len(f.GetListOfKeys())))\n",
        "        pic, wfm = cy.root_TH2_name(f)\n",
        "        max_image = len(pic)\n",
        "        max_wfm = len(wfm)\n",
        "        print (\"# of Images (TH2) Files: %d \" % (max_image))\n",
        "        print (\"# of Waveform (TH2) Files: %d \" % (max_wfm))\n",
        "        nImag=max_image\n",
        "    \n",
        "    except:\n",
        "        print (\"ERROR: No file %d\" % (runI[nRi]))\n",
        "        break\n",
        "    if max_image_to_read != 0:\n",
        "        nImag = max_image_to_read   \n",
        "    print (\"WARNING: data will be anlyzed from %d to %d\" % (start_image_to_read, nImag))\n",
        "    \n",
        "    m_image = np.zeros((x_resolution, y_resolution), dtype=np.float64)\n",
        "    s_image = np.zeros((x_resolution, y_resolution), dtype=np.float64)\n",
        "\n",
        "    n0 = 0\n",
        "    for iTr in range(start_image_to_read, nImag):\n",
        "\n",
        "        if iTr % 50 == 0:\n",
        "            print (iTr, ' >> Close and re-Open: ', tmp_file)\n",
        "            f.Close()\n",
        "            f  = ROOT.TFile.Open(tmp_file);\n",
        "\n",
        "        image = rtnp.hist2array(f.Get(pic[iTr])).T\n",
        "        m_image += image\n",
        "        s_image += image**2 \n",
        "        if n0 > 0:  # print progress and debung info for poit 200, 200...\n",
        "            print (\"Image[200,200]: %d => %.2f %.2f %.2f \" % (iTr,\n",
        "                                             image[200,200],\n",
        "                                             np.sqrt((s_image[200,200] - \n",
        "                                                     m_image[200,200]**2 \n",
        "                                                      / (n0+1)) / n0),\n",
        "                                             m_image[200,200]/(n0+1),\n",
        "                                             ))\n",
        "        n0 += 1\n",
        "    m_image = m_image/n0\n",
        "    s_image = np.sqrt((s_image - m_image**2 * n0) / (n0 - 1))\n",
        "    \n",
        "###### print Info and Save OutPut ######################################\n",
        "    \n",
        "    print (\"sigma %f\" % (s_image[200,200]))\n",
        "    fileoutm = (\"./data/run%d_mean.h5\" % (runI[nRi]))\n",
        "    cy.write_image_h5(fileoutm, m_image)\n",
        "    fileouts = (\"./data/run%d_sigma.h5\" % (runI[nRi]))\n",
        "    cy.write_image_h5(fileouts, s_image)\n",
        "    print(\"DONE OUTPUT on files: %s, %s\", (fileoutm, fileouts))\n",
        "    if not cy.rm_file(tmp_file):\n",
        "        print (\">> File \"+tmp_file+\" removed\")"
      ],
      "execution_count": 7,
      "outputs": [
        {
          "output_type": "stream",
          "text": [
            "Download and open file: https://swift.cloud.infn.it:8080/v1/AUTH_1e60fe39fba04701aa5ffc0b97871ed8/Cygnus/Data/LAB/histograms_Run02340.root\n"
          ],
          "name": "stdout"
        },
        {
          "output_type": "stream",
          "text": [
            "  2.7%  104824832 / 3813812008"
          ],
          "name": "stderr"
        },
        {
          "output_type": "stream",
          "text": [
            "ERROR: No file 2340\n"
          ],
          "name": "stdout"
        },
        {
          "output_type": "stream",
          "text": [
            "\r  2.7%  104833024 / 3813812008\r  2.7%  104841216 / 3813812008\r  2.7%  104849408 / 3813812008\r  2.7%  104857600 / 3813812008\r  2.7%  104865792 / 3813812008\r  2.7%  104873984 / 3813812008\r  2.8%  104882176 / 3813812008\r  2.8%  104890368 / 3813812008\r  2.8%  104898560 / 3813812008\r  2.8%  104906752 / 3813812008\r  2.8%  104914944 / 3813812008\r  2.8%  104923136 / 3813812008"
          ],
          "name": "stderr"
        }
      ]
    },
    {
      "cell_type": "code",
      "metadata": {
        "id": "SAEalomj6Fik",
        "colab_type": "code",
        "colab": {
          "base_uri": "https://localhost:8080/",
          "height": 34
        },
        "outputId": "03ccb4bc-eb5b-4d03-ba83-4ec38f307a45"
      },
      "source": [
        "  fh5 = (\"run%d_mean.h5\" % (run_ped))\n",
        "  cmd = 'wget https://raw.githubusercontent.com/gmazzitelli/cygno/master/data/'+fh5+' -o ./data/'+fh5\n",
        "  os.system(cmd)\n",
        "  fh5 = (\"run%d_sigma.h5\" % (run_ped))\n",
        "  cmd = 'wget https://raw.githubusercontent.com/gmazzitelli/cygno/master/data/'+fh5+' -o ./data/'+fh5\n",
        "  os.system(cmd)\n",
        "\n"
      ],
      "execution_count": 62,
      "outputs": [
        {
          "output_type": "execute_result",
          "data": {
            "text/plain": [
              "0"
            ]
          },
          "metadata": {
            "tags": []
          },
          "execution_count": 62
        }
      ]
    },
    {
      "cell_type": "markdown",
      "metadata": {
        "id": "yX6Kes_gyPGe",
        "colab_type": "text"
      },
      "source": [
        ""
      ]
    },
    {
      "cell_type": "code",
      "metadata": {
        "id": "47xceqHkyP-Z",
        "colab_type": "code",
        "colab": {
          "base_uri": "https://localhost:8080/",
          "height": 68
        },
        "outputId": "85edfa41-034f-4538-e320-4c498532a842"
      },
      "source": [
        "print(cmd)\n",
        "!ls data \n",
        "fh5 = (\"run%d_mean.h5\" % (run_ped))\n",
        "cmd = 'wget https://raw.githubusercontent.com/gmazzitelli/cygno/master/data/'+fh5+' -o ./data/'+fh5\n",
        "os.system(cmd)\n",
        "fh5 = (\"run%d_sigma.h5\" % (run_ped))\n",
        "cmd = 'wget https://raw.githubusercontent.com/gmazzitelli/cygno/master/data/'+fh5+' -o ./data/'+fh5\n",
        "os.system(cmd)\n",
        "!ls data "
      ],
      "execution_count": 69,
      "outputs": [
        {
          "output_type": "stream",
          "text": [
            "wget https://raw.githubusercontent.com/gmazzitelli/cygno/master/data/run2340_sigma.h5 -o ./data/run2340_sigma.h5\n",
            "run2340_mean.h5  run2340_sigma.h5\n",
            "run2340_mean.h5  run2340_sigma.h5\n"
          ],
          "name": "stdout"
        }
      ]
    },
    {
      "cell_type": "markdown",
      "metadata": {
        "id": "g0Z1nMtFj0oX",
        "colab_type": "text"
      },
      "source": [
        "download file [rum] from [tag] "
      ]
    },
    {
      "cell_type": "code",
      "metadata": {
        "id": "j7TtYehJZ4cE",
        "colab_type": "code",
        "outputId": "8062789b-a7b4-46f7-feed-37c9a080e0a0",
        "colab": {
          "base_uri": "https://localhost:8080/",
          "height": 153
        }
      },
      "source": [
        "runI          = [2346] \n",
        "run_ped       = 2340 \n",
        "cimax         = 300\n",
        "cimin         = 0 \n",
        "dataSelection = 'LAB'\n",
        "rescale       = 512\n",
        "nsigma        = 1.8\n",
        "\n",
        "try:\n",
        "  fh5 = (\"run%d_mean.h5\" % (run_ped))\n",
        "  cmd = 'wget https://raw.githubusercontent.com/gmazzitelli/cygno/master/data/'+fh5+' -o ./data/'+fh5\n",
        "  os.system(cmd)\n",
        "  fh5 = (\"run%d_sigma.h5\" % (run_ped))\n",
        "  cmd = 'wget https://raw.githubusercontent.com/gmazzitelli/cygno/master/data/'+fh5+' -o ./data/'+fh5\n",
        "  os.system(cmd)\n",
        "except:\n",
        "  print (\"No Pedestal file for run %s on remote repo\" % run_ped)\n",
        "\n",
        "#########################\n",
        "\n",
        "try:\n",
        "    fileoutm = (\"./data/run%d_mean.h5\" % (run_ped))\n",
        "    m_image = cy.read_image_h5(fileoutm)\n",
        "    PedOverMax = m_image[m_image > cimax].size\n",
        "    print (\"Pedestal mean: %.2f, sigma: %.2f, over th. (%d) %d\" % \n",
        "       (m_image[m_image<cimax].mean(), \n",
        "        np.sqrt(m_image[m_image<cimax].var()), cimax,\n",
        "        (m_image>cimax).sum()))\n",
        "except:\n",
        "    print (\"No Pedestal file for run %s, run script runs-pedestals.ipynb\" % run_ped)\n",
        "    print (\"STOP\")\n",
        "\n",
        "    \n",
        "try: \n",
        "    fileouts = (\"./data/run%d_sigma.h5\" % (run_ped))\n",
        "    s_image = cy.read_image_h5(fileouts)\n",
        "    print (\"Sigma mean: %.2f, sigma: %.2f, over th. (50) %d\" % \n",
        "   (s_image[s_image<50].mean(), \n",
        "    np.sqrt(s_image[s_image<50].var()), \n",
        "    (s_image>50).sum()))\n",
        "except:\n",
        "    print (\"No Sigma file for run %s, run script runs-pedestals.ipynb\" % run_ped)\n",
        "    print (\"STOP\")\n",
        "\n",
        "#########################\n",
        "\n",
        "th_image   = np.round(m_image + nsigma*s_image)\n",
        "print (\"light over Th: %.2f \" % (th_image.sum()-m_image.sum()))\n",
        "\n",
        "    \n",
        "    \n",
        "for nRi in range(0,len(runI)):\n",
        "    try:\n",
        "        print ('Download and open file: '+cy.swift_root_file(dataSelection, runI[nRi]))\n",
        "        tmp_file = cy.swift_download_file(cy.swift_root_file(dataSelection, runI[nRi]))\n",
        "        print ('Open file: '+tmp_file)\n",
        "        f  = ROOT.TFile.Open(tmp_file);\n",
        "        print ('Find Keys: '+str(len(f.GetListOfKeys())))\n",
        "        pic, wfm = cy.root_TH2_name(f)\n",
        "        max_image = len(pic)\n",
        "        max_wfm = len(wfm)\n",
        "        print (\"# of Images (TH2) Files: %d \" % (max_image))\n",
        "        print (\"# of Waveform (TH2) Files: %d \" % (max_wfm))\n",
        "        nImag=max_image\n",
        "    except:\n",
        "        print (\"ERROR: No file %d\" % (runI[nRi]))\n",
        "        break\n",
        "\n",
        "    data_to_save = []\n",
        "    files = (\"./data/dbscan_run%d_cmin_%d_cmax_%d_rescale_%d_nsigma_%.1f_ev_%d_ped_%d.txt\" % \n",
        "                     (runI[nRi], cimin, cimax, rescale, nsigma, max_image, run_ped))\n",
        "    for iTr in range(0, max_image):\n",
        "        if iTr % 10 == 0:\n",
        "            print ('RUN: ', runI[nRi], 'Event: ', iTr)\n",
        "            print (iTr, ' >> Close and re-Open: ', tmp_file)\n",
        "            f.Close()\n",
        "            f  = ROOT.TFile.Open(tmp_file);\n",
        "\n",
        "        image = rtnp.hist2array(f.Get(pic[iTr])).T\n",
        "\n",
        "        rebin_image     = cy.rebin(image-m_image, (rescale, rescale))  \n",
        "        rebin_th_image  = cy.rebin((th_image-m_image), (rescale, rescale))\n",
        "\n",
        "        edges           = (rebin_image > rebin_th_image) & (rebin_image < cimax)         \n",
        "        points          = np.array(np.nonzero(edges)).T.astype(float) \n",
        "        scaler          = StandardScaler()\n",
        "        X_scaled        = scaler.fit_transform(points)\n",
        "\n",
        "        dbscan          = DBSCAN(eps=0.05, min_samples = 2)\n",
        "        dbscan.fit(points)\n",
        "\n",
        "        clusters = dbscan.fit_predict(X_scaled)\n",
        "\n",
        "        for ic in range (min(dbscan.labels_), max(dbscan.labels_)):\n",
        "            ph = 0.\n",
        "            # print (\"value: \", iTr, ic, dbscan.labels_[ic], min(dbscan.labels_), max(dbscan.labels_))\n",
        "            yc = points[:,1][dbscan.labels_==ic]\n",
        "            xc = points[:,0][dbscan.labels_==ic]\n",
        "            ph, dim = cy.cluster_par(yc, xc, rebin_image)\n",
        "            width, height, pearson = cy.confidence_ellipse_par(yc,xc)\n",
        "            for j in range(0, dim):\n",
        "                x=int(xc[j])\n",
        "                y=int(yc[j])\n",
        "                #ph += rebin_image[y,x]\n",
        "                if j == 0:\n",
        "                    x0start = x\n",
        "                    y0start = y\n",
        "            x0end = x\n",
        "            y0end = y\n",
        "            data_to_save.append([iTr, ic, dim, ph, ph/dim, \n",
        "                                 x0start, y0start, x0end, y0end, width, height, pearson])\n",
        "\n",
        "    np.savetxt(files, data_to_save, fmt='%.10e', delimiter=\" \")\n",
        "    print (\"out file\", files)\n",
        "    if not cy.rm_file(tmp_file):\n",
        "        print (\">> File \"+tmp_file+\" removed\")"
      ],
      "execution_count": 67,
      "outputs": [
        {
          "output_type": "stream",
          "text": [
            "No Pedestal file for run 2340, run script runs-pedestals.ipynb\n",
            "STOP\n",
            "No Sigma file for run 2340, run script runs-pedestals.ipynb\n",
            "STOP\n",
            "light over Th: 0.00 \n",
            "Download and open file: https://swift.cloud.infn.it:8080/v1/AUTH_1e60fe39fba04701aa5ffc0b97871ed8/Cygnus/Data/LAB/histograms_Run02346.root\n"
          ],
          "name": "stdout"
        },
        {
          "output_type": "stream",
          "text": [
            "  9.3%  109289472 / 1179703204"
          ],
          "name": "stderr"
        },
        {
          "output_type": "stream",
          "text": [
            "ERROR: No file 2346\n"
          ],
          "name": "stdout"
        },
        {
          "output_type": "stream",
          "text": [
            "\r  9.3%  109297664 / 1179703204\r  9.3%  109305856 / 1179703204\r  9.3%  109314048 / 1179703204\r  9.3%  109322240 / 1179703204\r  9.3%  109330432 / 1179703204\r  9.3%  109338624 / 1179703204\r  9.3%  109346816 / 1179703204\r  9.3%  109355008 / 1179703204\r  9.3%  109363200 / 1179703204\r  9.3%  109371392 / 1179703204\r  9.3%  109379584 / 1179703204\r  9.3%  109387776 / 1179703204\r  9.3%  109395968 / 1179703204\r  9.3%  109404160 / 1179703204\r  9.3%  109412352 / 1179703204\r  9.3%  109420544 / 1179703204\r  9.3%  109428736 / 1179703204\r  9.3%  109436928 / 1179703204\r  9.3%  109445120 / 1179703204\r  9.3%  109453312 / 1179703204\r  9.3%  109461504 / 1179703204\r  9.3%  109469696 / 1179703204\r  9.3%  109477888 / 1179703204\r  9.3%  109486080 / 1179703204\r  9.3%  109494272 / 1179703204\r  9.3%  109502464 / 1179703204\r  9.3%  109510656 / 1179703204\r  9.3%  109518848 / 1179703204\r  9.3%  109527040 / 1179703204\r  9.3%  109535232 / 1179703204\r  9.3%  109543424 / 1179703204\r  9.3%  109551616 / 1179703204\r  9.3%  109559808 / 1179703204\r  9.3%  109568000 / 1179703204\r  9.3%  109576192 / 1179703204\r  9.3%  109584384 / 1179703204\r  9.3%  109592576 / 1179703204\r  9.3%  109600768 / 1179703204\r  9.3%  109608960 / 1179703204\r  9.3%  109617152 / 1179703204\r  9.3%  109625344 / 1179703204\r  9.3%  109633536 / 1179703204\r  9.3%  109641728 / 1179703204\r  9.3%  109649920 / 1179703204\r  9.3%  109658112 / 1179703204\r  9.3%  109666304 / 1179703204\r  9.3%  109674496 / 1179703204\r  9.3%  109682688 / 1179703204\r  9.3%  109690880 / 1179703204\r  9.3%  109699072 / 1179703204\r  9.3%  109707264 / 1179703204\r  9.3%  109715456 / 1179703204\r  9.3%  109723648 / 1179703204\r  9.3%  109731840 / 1179703204\r  9.3%  109740032 / 1179703204\r  9.3%  109748224 / 1179703204\r  9.3%  109756416 / 1179703204\r  9.3%  109764608 / 1179703204\r  9.3%  109772800 / 1179703204\r  9.3%  109780992 / 1179703204\r  9.3%  109789184 / 1179703204\r  9.3%  109797376 / 1179703204\r  9.3%  109805568 / 1179703204\r  9.3%  109813760 / 1179703204\r  9.3%  109821952 / 1179703204\r  9.3%  109830144 / 1179703204\r  9.3%  109838336 / 1179703204\r  9.3%  109846528 / 1179703204\r  9.3%  109854720 / 1179703204\r  9.3%  109862912 / 1179703204\r  9.3%  109871104 / 1179703204\r  9.3%  109879296 / 1179703204\r  9.3%  109887488 / 1179703204\r  9.3%  109895680 / 1179703204\r  9.3%  109903872 / 1179703204\r  9.3%  109912064 / 1179703204\r  9.3%  109920256 / 1179703204\r  9.3%  109928448 / 1179703204\r  9.3%  109936640 / 1179703204\r  9.3%  109944832 / 1179703204\r  9.3%  109953024 / 1179703204\r  9.3%  109961216 / 1179703204\r  9.3%  109969408 / 1179703204\r  9.3%  109977600 / 1179703204\r  9.3%  109985792 / 1179703204\r  9.3%  109993984 / 1179703204\r  9.3%  110002176 / 1179703204\r  9.3%  110010368 / 1179703204\r  9.3%  110018560 / 1179703204\r  9.3%  110026752 / 1179703204\r  9.3%  110034944 / 1179703204\r  9.3%  110043136 / 1179703204\r  9.3%  110051328 / 1179703204\r  9.3%  110059520 / 1179703204\r  9.3%  110067712 / 1179703204\r  9.3%  110075904 / 1179703204\r  9.3%  110084096 / 1179703204\r  9.3%  110092288 / 1179703204\r  9.3%  110100480 / 1179703204\r  9.3%  110108672 / 1179703204\r  9.3%  110116864 / 1179703204\r  9.3%  110125056 / 1179703204\r  9.3%  110133248 / 1179703204\r  9.3%  110141440 / 1179703204\r  9.3%  110149632 / 1179703204\r  9.3%  110157824 / 1179703204\r  9.3%  110166016 / 1179703204\r  9.3%  110174208 / 1179703204\r  9.3%  110182400 / 1179703204\r  9.3%  110190592 / 1179703204\r  9.3%  110198784 / 1179703204\r  9.3%  110206976 / 1179703204\r  9.3%  110215168 / 1179703204\r  9.3%  110223360 / 1179703204\r  9.3%  110231552 / 1179703204\r  9.3%  110239744 / 1179703204\r  9.3%  110247936 / 1179703204\r  9.3%  110256128 / 1179703204\r  9.3%  110264320 / 1179703204\r  9.3%  110272512 / 1179703204\r  9.3%  110280704 / 1179703204\r  9.3%  110288896 / 1179703204\r  9.3%  110297088 / 1179703204\r  9.4%  110305280 / 1179703204\r  9.4%  110313472 / 1179703204\r  9.4%  110321664 / 1179703204\r  9.4%  110329856 / 1179703204\r  9.4%  110338048 / 1179703204\r  9.4%  110346240 / 1179703204\r  9.4%  110354432 / 1179703204\r  9.4%  110362624 / 1179703204\r  9.4%  110370816 / 1179703204\r  9.4%  110379008 / 1179703204\r  9.4%  110387200 / 1179703204\r  9.4%  110395392 / 1179703204\r  9.4%  110403584 / 1179703204\r  9.4%  110411776 / 1179703204\r  9.4%  110419968 / 1179703204\r  9.4%  110428160 / 1179703204\r  9.4%  110436352 / 1179703204\r  9.4%  110444544 / 1179703204\r  9.4%  110452736 / 1179703204\r  9.4%  110460928 / 1179703204\r  9.4%  110469120 / 1179703204\r  9.4%  110477312 / 1179703204\r  9.4%  110485504 / 1179703204\r  9.4%  110493696 / 1179703204\r  9.4%  110501888 / 1179703204\r  9.4%  110510080 / 1179703204\r  9.4%  110518272 / 1179703204\r  9.4%  110526464 / 1179703204\r  9.4%  110534656 / 1179703204\r  9.4%  110542848 / 1179703204\r  9.4%  110551040 / 1179703204\r  9.4%  110559232 / 1179703204\r  9.4%  110567424 / 1179703204\r  9.4%  110575616 / 1179703204\r  9.4%  110583808 / 1179703204\r  9.4%  110592000 / 1179703204\r  9.4%  110600192 / 1179703204\r  9.4%  110608384 / 1179703204\r  9.4%  110616576 / 1179703204\r  9.4%  110624768 / 1179703204\r  9.4%  110632960 / 1179703204\r  9.4%  110641152 / 1179703204\r  9.4%  110649344 / 1179703204\r  9.4%  110657536 / 1179703204\r  9.4%  110665728 / 1179703204\r  9.4%  110673920 / 1179703204\r  9.4%  110682112 / 1179703204\r  9.4%  110690304 / 1179703204\r  9.4%  110698496 / 1179703204\r  9.4%  110706688 / 1179703204"
          ],
          "name": "stderr"
        }
      ]
    },
    {
      "cell_type": "code",
      "metadata": {
        "id": "fm-l80RDynJ6",
        "colab_type": "code",
        "colab": {
          "base_uri": "https://localhost:8080/",
          "height": 460
        },
        "outputId": "53f7c549-4f47-4dd4-b30b-002eb288d91a"
      },
      "source": [
        "fileoutm = (\"./data/run%d_mean.h5\" % (run_ped))\n",
        "print (fileoutm)\n",
        "cy.read_image_h5(fileoutm)"
      ],
      "execution_count": 70,
      "outputs": [
        {
          "output_type": "stream",
          "text": [
            "./data/run2340_mean.h5\n"
          ],
          "name": "stdout"
        },
        {
          "output_type": "error",
          "ename": "IOError",
          "evalue": "ignored",
          "traceback": [
            "\u001b[0;31m\u001b[0m",
            "\u001b[0;31mIOError\u001b[0mTraceback (most recent call last)",
            "\u001b[0;32m<ipython-input-70-5ad428503f51>\u001b[0m in \u001b[0;36m<module>\u001b[0;34m()\u001b[0m\n\u001b[1;32m      1\u001b[0m \u001b[0mfileoutm\u001b[0m \u001b[0;34m=\u001b[0m \u001b[0;34m(\u001b[0m\u001b[0;34m\"./data/run%d_mean.h5\"\u001b[0m \u001b[0;34m%\u001b[0m \u001b[0;34m(\u001b[0m\u001b[0mrun_ped\u001b[0m\u001b[0;34m)\u001b[0m\u001b[0;34m)\u001b[0m\u001b[0;34m\u001b[0m\u001b[0;34m\u001b[0m\u001b[0m\n\u001b[1;32m      2\u001b[0m \u001b[0;32mprint\u001b[0m \u001b[0;34m(\u001b[0m\u001b[0mfileoutm\u001b[0m\u001b[0;34m)\u001b[0m\u001b[0;34m\u001b[0m\u001b[0;34m\u001b[0m\u001b[0m\n\u001b[0;32m----> 3\u001b[0;31m \u001b[0mcy\u001b[0m\u001b[0;34m.\u001b[0m\u001b[0mread_image_h5\u001b[0m\u001b[0;34m(\u001b[0m\u001b[0mfileoutm\u001b[0m\u001b[0;34m)\u001b[0m\u001b[0;34m\u001b[0m\u001b[0;34m\u001b[0m\u001b[0m\n\u001b[0m",
            "\u001b[0;32m/content/cygnus_lib.py\u001b[0m in \u001b[0;36mread_image_h5\u001b[0;34m(file)\u001b[0m\n\u001b[1;32m    216\u001b[0m     \u001b[0;32mimport\u001b[0m \u001b[0mnumpy\u001b[0m \u001b[0;32mas\u001b[0m \u001b[0mnp\u001b[0m\u001b[0;34m\u001b[0m\u001b[0;34m\u001b[0m\u001b[0m\n\u001b[1;32m    217\u001b[0m     \u001b[0;32mimport\u001b[0m \u001b[0mh5py\u001b[0m\u001b[0;34m\u001b[0m\u001b[0;34m\u001b[0m\u001b[0m\n\u001b[0;32m--> 218\u001b[0;31m     \u001b[0;32mwith\u001b[0m \u001b[0mh5py\u001b[0m\u001b[0;34m.\u001b[0m\u001b[0mFile\u001b[0m\u001b[0;34m(\u001b[0m\u001b[0mfile\u001b[0m\u001b[0;34m,\u001b[0m\u001b[0;34m'r'\u001b[0m\u001b[0;34m)\u001b[0m \u001b[0;32mas\u001b[0m \u001b[0mhf\u001b[0m\u001b[0;34m:\u001b[0m\u001b[0;34m\u001b[0m\u001b[0;34m\u001b[0m\u001b[0m\n\u001b[0m\u001b[1;32m    219\u001b[0m         \u001b[0mdata\u001b[0m \u001b[0;34m=\u001b[0m \u001b[0mhf\u001b[0m\u001b[0;34m.\u001b[0m\u001b[0mget\u001b[0m\u001b[0;34m(\u001b[0m\u001b[0;34m'Image'\u001b[0m\u001b[0;34m)\u001b[0m\u001b[0;34m\u001b[0m\u001b[0;34m\u001b[0m\u001b[0m\n\u001b[1;32m    220\u001b[0m         \u001b[0mnp_data\u001b[0m \u001b[0;34m=\u001b[0m \u001b[0mnp\u001b[0m\u001b[0;34m.\u001b[0m\u001b[0marray\u001b[0m\u001b[0;34m(\u001b[0m\u001b[0mdata\u001b[0m\u001b[0;34m)\u001b[0m\u001b[0;34m\u001b[0m\u001b[0;34m\u001b[0m\u001b[0m\n",
            "\u001b[0;32m/usr/local/lib/python2.7/dist-packages/h5py/_hl/files.pyc\u001b[0m in \u001b[0;36m__init__\u001b[0;34m(self, name, mode, driver, libver, userblock_size, swmr, **kwds)\u001b[0m\n\u001b[1;32m    310\u001b[0m             \u001b[0;32mwith\u001b[0m \u001b[0mphil\u001b[0m\u001b[0;34m:\u001b[0m\u001b[0;34m\u001b[0m\u001b[0;34m\u001b[0m\u001b[0m\n\u001b[1;32m    311\u001b[0m                 \u001b[0mfapl\u001b[0m \u001b[0;34m=\u001b[0m \u001b[0mmake_fapl\u001b[0m\u001b[0;34m(\u001b[0m\u001b[0mdriver\u001b[0m\u001b[0;34m,\u001b[0m \u001b[0mlibver\u001b[0m\u001b[0;34m,\u001b[0m \u001b[0;34m**\u001b[0m\u001b[0mkwds\u001b[0m\u001b[0;34m)\u001b[0m\u001b[0;34m\u001b[0m\u001b[0;34m\u001b[0m\u001b[0m\n\u001b[0;32m--> 312\u001b[0;31m                 \u001b[0mfid\u001b[0m \u001b[0;34m=\u001b[0m \u001b[0mmake_fid\u001b[0m\u001b[0;34m(\u001b[0m\u001b[0mname\u001b[0m\u001b[0;34m,\u001b[0m \u001b[0mmode\u001b[0m\u001b[0;34m,\u001b[0m \u001b[0muserblock_size\u001b[0m\u001b[0;34m,\u001b[0m \u001b[0mfapl\u001b[0m\u001b[0;34m,\u001b[0m \u001b[0mswmr\u001b[0m\u001b[0;34m=\u001b[0m\u001b[0mswmr\u001b[0m\u001b[0;34m)\u001b[0m\u001b[0;34m\u001b[0m\u001b[0;34m\u001b[0m\u001b[0m\n\u001b[0m\u001b[1;32m    313\u001b[0m \u001b[0;34m\u001b[0m\u001b[0m\n\u001b[1;32m    314\u001b[0m                 \u001b[0;32mif\u001b[0m \u001b[0mswmr_support\u001b[0m\u001b[0;34m:\u001b[0m\u001b[0;34m\u001b[0m\u001b[0;34m\u001b[0m\u001b[0m\n",
            "\u001b[0;32m/usr/local/lib/python2.7/dist-packages/h5py/_hl/files.pyc\u001b[0m in \u001b[0;36mmake_fid\u001b[0;34m(name, mode, userblock_size, fapl, fcpl, swmr)\u001b[0m\n\u001b[1;32m    140\u001b[0m         \u001b[0;32mif\u001b[0m \u001b[0mswmr\u001b[0m \u001b[0;32mand\u001b[0m \u001b[0mswmr_support\u001b[0m\u001b[0;34m:\u001b[0m\u001b[0;34m\u001b[0m\u001b[0;34m\u001b[0m\u001b[0m\n\u001b[1;32m    141\u001b[0m             \u001b[0mflags\u001b[0m \u001b[0;34m|=\u001b[0m \u001b[0mh5f\u001b[0m\u001b[0;34m.\u001b[0m\u001b[0mACC_SWMR_READ\u001b[0m\u001b[0;34m\u001b[0m\u001b[0;34m\u001b[0m\u001b[0m\n\u001b[0;32m--> 142\u001b[0;31m         \u001b[0mfid\u001b[0m \u001b[0;34m=\u001b[0m \u001b[0mh5f\u001b[0m\u001b[0;34m.\u001b[0m\u001b[0mopen\u001b[0m\u001b[0;34m(\u001b[0m\u001b[0mname\u001b[0m\u001b[0;34m,\u001b[0m \u001b[0mflags\u001b[0m\u001b[0;34m,\u001b[0m \u001b[0mfapl\u001b[0m\u001b[0;34m=\u001b[0m\u001b[0mfapl\u001b[0m\u001b[0;34m)\u001b[0m\u001b[0;34m\u001b[0m\u001b[0;34m\u001b[0m\u001b[0m\n\u001b[0m\u001b[1;32m    143\u001b[0m     \u001b[0;32melif\u001b[0m \u001b[0mmode\u001b[0m \u001b[0;34m==\u001b[0m \u001b[0;34m'r+'\u001b[0m\u001b[0;34m:\u001b[0m\u001b[0;34m\u001b[0m\u001b[0;34m\u001b[0m\u001b[0m\n\u001b[1;32m    144\u001b[0m         \u001b[0mfid\u001b[0m \u001b[0;34m=\u001b[0m \u001b[0mh5f\u001b[0m\u001b[0;34m.\u001b[0m\u001b[0mopen\u001b[0m\u001b[0;34m(\u001b[0m\u001b[0mname\u001b[0m\u001b[0;34m,\u001b[0m \u001b[0mh5f\u001b[0m\u001b[0;34m.\u001b[0m\u001b[0mACC_RDWR\u001b[0m\u001b[0;34m,\u001b[0m \u001b[0mfapl\u001b[0m\u001b[0;34m=\u001b[0m\u001b[0mfapl\u001b[0m\u001b[0;34m)\u001b[0m\u001b[0;34m\u001b[0m\u001b[0;34m\u001b[0m\u001b[0m\n",
            "\u001b[0;32mh5py/_objects.pyx\u001b[0m in \u001b[0;36mh5py._objects.with_phil.wrapper\u001b[0;34m()\u001b[0m\n",
            "\u001b[0;32mh5py/_objects.pyx\u001b[0m in \u001b[0;36mh5py._objects.with_phil.wrapper\u001b[0;34m()\u001b[0m\n",
            "\u001b[0;32mh5py/h5f.pyx\u001b[0m in \u001b[0;36mh5py.h5f.open\u001b[0;34m()\u001b[0m\n",
            "\u001b[0;31mIOError\u001b[0m: Unable to open file (file signature not found)"
          ]
        }
      ]
    }
  ]
}